{
 "cells": [
  {
   "cell_type": "code",
   "execution_count": 1,
   "metadata": {
    "id": "PeLzdEdnC6DO"
   },
   "outputs": [],
   "source": [
    "import pandas as pd\n",
    "import numpy as np"
   ]
  },
  {
   "cell_type": "markdown",
   "metadata": {
    "id": "q4wNGN4pKaVW"
   },
   "source": [
    "## Reading in the data"
   ]
  },
  {
   "cell_type": "code",
   "execution_count": 9,
   "metadata": {
    "id": "2Y0L3VplDS9Z"
   },
   "outputs": [],
   "source": [
    "'''\n",
    "file_names = [\n",
    "    '7A_fy1991_fy1999_current_8.csv',\n",
    "    '7A_fy2000_fy2009_current_8.csv',\n",
    "    '7A_fy2010_fy2019_current_8.csv',\n",
    "    '7A_fy2020_fy2023_current_8.csv'\n",
    "]\n",
    "'''\n",
    "df = pd.read_csv('7A_fy2020_fy2023_current_8.csv', low_memory=False)\n"
   ]
  },
  {
   "cell_type": "code",
   "execution_count": 10,
   "metadata": {
    "colab": {
     "base_uri": "https://localhost:8080/"
    },
    "id": "iX_JbrznD9C4",
    "outputId": "374606cf-0400-432b-d3d2-cc3b69a10983"
   },
   "outputs": [
    {
     "name": "stdout",
     "output_type": "stream",
     "text": [
      "<class 'pandas.core.frame.DataFrame'>\n",
      "RangeIndex: 182469 entries, 0 to 182468\n",
      "Data columns (total 40 columns):\n",
      " #   Column                 Non-Null Count   Dtype  \n",
      "---  ------                 --------------   -----  \n",
      " 0   AsOfDate               182469 non-null  int64  \n",
      " 1   Program                182469 non-null  object \n",
      " 2   BorrName               182467 non-null  object \n",
      " 3   BorrStreet             182469 non-null  object \n",
      " 4   BorrCity               182469 non-null  object \n",
      " 5   BorrState              182469 non-null  object \n",
      " 6   BorrZip                182469 non-null  int64  \n",
      " 7   BankName               182469 non-null  object \n",
      " 8   BankFDICNumber         164739 non-null  float64\n",
      " 9   BankNCUANumber         5384 non-null    float64\n",
      " 10  BankStreet             182466 non-null  object \n",
      " 11  BankCity               182466 non-null  object \n",
      " 12  BankState              182466 non-null  object \n",
      " 13  BankZip                182466 non-null  float64\n",
      " 14  GrossApproval          182465 non-null  float64\n",
      " 15  SBAGuaranteedApproval  182465 non-null  float64\n",
      " 16  ApprovalDate           182469 non-null  object \n",
      " 17  ApprovalFiscalYear     182469 non-null  int64  \n",
      " 18  FirstDisbursementDate  156724 non-null  object \n",
      " 19  DeliveryMethod         182465 non-null  object \n",
      " 20  subpgmdesc             182469 non-null  object \n",
      " 21  InitialInterestRate    182469 non-null  float64\n",
      " 22  TermInMonths           182469 non-null  int64  \n",
      " 23  NaicsCode              182465 non-null  float64\n",
      " 24  NaicsDescription       175076 non-null  object \n",
      " 25  FranchiseCode          25906 non-null   object \n",
      " 26  FranchiseName          25818 non-null   object \n",
      " 27  ProjectCounty          182460 non-null  object \n",
      " 28  ProjectState           182469 non-null  object \n",
      " 29  SBADistrictOffice      182469 non-null  object \n",
      " 30  CongressionalDistrict  182465 non-null  float64\n",
      " 31  BusinessType           182468 non-null  object \n",
      " 32  BusinessAge            182368 non-null  object \n",
      " 33  LoanStatus             182469 non-null  object \n",
      " 34  PaidInFullDate         15861 non-null   object \n",
      " 35  ChargeOffDate          617 non-null     object \n",
      " 36  GrossChargeOffAmount   182469 non-null  int64  \n",
      " 37  RevolverStatus         182469 non-null  int64  \n",
      " 38  JobsSupported          182469 non-null  int64  \n",
      " 39  SOLDSECMRTIND          63955 non-null   object \n",
      "dtypes: float64(8), int64(7), object(25)\n",
      "memory usage: 55.7+ MB\n",
      "   AsOfDate Program                       BorrName  \\\n",
      "0  20230630      7A  Allen Foot and Ankle Medicine   \n",
      "1  20230630      7A         Cojutepeque Restaurant   \n",
      "2  20230630      7A                       Adwa LLC   \n",
      "3  20230630      7A                  Town Cleaners   \n",
      "4  20230630      7A                      Moor Inc.   \n",
      "\n",
      "                       BorrStreet      BorrCity BorrState  BorrZip  \\\n",
      "0     2919 S ELLSWORTH RD STE 124          MESA        AZ    85212   \n",
      "1                   2610 W 3rd St   Los Angeles        CA    90057   \n",
      "2  3105 ALDERWOOD MALL BLVD Suite      LYNNWOOD        WA    98036   \n",
      "3         2700 WASHINGTON BLVD #B     ARLINGTON        VA    22201   \n",
      "4                 524 WOODSIDE RD  REDWOOD CITY        CA    94061   \n",
      "\n",
      "                                    BankName  BankFDICNumber  BankNCUANumber  \\\n",
      "0                      Western Alliance Bank         57512.0             NaN   \n",
      "1                                Banner Bank         28489.0             NaN   \n",
      "2                                Umpqua Bank         17266.0             NaN   \n",
      "3                                 Hanmi Bank         24170.0             NaN   \n",
      "4  JPMorgan Chase Bank, National Association           628.0             NaN   \n",
      "\n",
      "   ... CongressionalDistrict BusinessType                        BusinessAge  \\\n",
      "0  ...                   4.0  CORPORATION  Existing or more than 2 years old   \n",
      "1  ...                  34.0  CORPORATION  Existing or more than 2 years old   \n",
      "2  ...                   1.0  CORPORATION                Change of Ownership   \n",
      "3  ...                   8.0   INDIVIDUAL  Existing or more than 2 years old   \n",
      "4  ...                  14.0  CORPORATION  Existing or more than 2 years old   \n",
      "\n",
      "   LoanStatus  PaidInFullDate  ChargeOffDate GrossChargeOffAmount  \\\n",
      "0         PIF      12/31/2022            NaN                    0   \n",
      "1      EXEMPT             NaN            NaN                    0   \n",
      "2      EXEMPT             NaN            NaN                    0   \n",
      "3      CHGOFF             NaN       9/7/2022                15570   \n",
      "4         PIF       1/31/2023            NaN                    0   \n",
      "\n",
      "   RevolverStatus JobsSupported SOLDSECMRTIND  \n",
      "0               0             0             N  \n",
      "1               0            12             Y  \n",
      "2               0            14             Y  \n",
      "3               0             2             Y  \n",
      "4               1             0             N  \n",
      "\n",
      "[5 rows x 40 columns] \n",
      "\n",
      " None\n"
     ]
    }
   ],
   "source": [
    "print(df.head(5), '\\n\\n', df.info())"
   ]
  },
  {
   "cell_type": "markdown",
   "metadata": {
    "id": "dZnWnQvVKI1s"
   },
   "source": [
    "## Dropping the unwanted attributes"
   ]
  },
  {
   "cell_type": "code",
   "execution_count": 11,
   "metadata": {
    "colab": {
     "base_uri": "https://localhost:8080/"
    },
    "id": "ScGojN_FD9Fb",
    "outputId": "b8c33cb2-c7b7-4226-aed6-86d377b283c5"
   },
   "outputs": [
    {
     "name": "stdout",
     "output_type": "stream",
     "text": [
      "DataFrame (df1) with only the desired columns:\n",
      "                              BorrName                      BorrStreet  \\\n",
      "0        Allen Foot and Ankle Medicine     2919 S ELLSWORTH RD STE 124   \n",
      "1               Cojutepeque Restaurant                   2610 W 3rd St   \n",
      "2                             Adwa LLC  3105 ALDERWOOD MALL BLVD Suite   \n",
      "3                        Town Cleaners         2700 WASHINGTON BLVD #B   \n",
      "4                            Moor Inc.                 524 WOODSIDE RD   \n",
      "...                                ...                             ...   \n",
      "182464         Good News Ventures Inc.                 2982 Trueman Ct   \n",
      "182465              Our Delta Wash LLC                 111 N Highway 6   \n",
      "182466        Spring City Pharmacy LLC             101 N Walnut Street   \n",
      "182467  Eighty-Seven Inc. Retirement P       1408 Northland Dr Ste 103   \n",
      "182468                  Dafoe Law PLLC             160 S Main St Ste 4   \n",
      "\n",
      "            BorrCity BorrState  BorrZip  \\\n",
      "0               MESA        AZ    85212   \n",
      "1        Los Angeles        CA    90057   \n",
      "2           LYNNWOOD        WA    98036   \n",
      "3          ARLINGTON        VA    22201   \n",
      "4       REDWOOD CITY        CA    94061   \n",
      "...              ...       ...      ...   \n",
      "182464    Grove City        OH    43123   \n",
      "182465         Delta        UT    84624   \n",
      "182466        Colfax        IA    50054   \n",
      "182467    Saint Paul        MN    55120   \n",
      "182468   Frankenmuth        MI    48734   \n",
      "\n",
      "                                          BankName  BankFDICNumber  \\\n",
      "0                            Western Alliance Bank         57512.0   \n",
      "1                                      Banner Bank         28489.0   \n",
      "2                                      Umpqua Bank         17266.0   \n",
      "3                                       Hanmi Bank         24170.0   \n",
      "4        JPMorgan Chase Bank, National Association           628.0   \n",
      "...                                            ...             ...   \n",
      "182464             The Vinton County National Bank          6636.0   \n",
      "182465  Community Banks of Colorado, A Division of         59052.0   \n",
      "182466                          State Savings Bank           248.0   \n",
      "182467                         Mission Valley Bank         57101.0   \n",
      "182468                The Huntington National Bank          6560.0   \n",
      "\n",
      "        BankNCUANumber                  BankStreet           BankCity  \\\n",
      "0                  NaN           1 E Washington St            PHOENIX   \n",
      "1                  NaN              10 S First Ave        WALLA WALLA   \n",
      "2                  NaN    445 SE Main St, First Fl           ROSEBURG   \n",
      "3                  NaN    3660 Wilshire Blvd, PH-A        LOS ANGELES   \n",
      "4                  NaN           1111 Polaris Pkwy           COLUMBUS   \n",
      "...                ...                         ...                ...   \n",
      "182464             NaN               112 W Main St           MCARTHUR   \n",
      "182465             NaN  7800 E Orchard Rd, Ste 200  GREENWOOD VILLAGE   \n",
      "182466             NaN       4800 Mills Civic Pkwy    WEST DES MOINES   \n",
      "182467             NaN           9116 Sunland Blvd         SUN VALLEY   \n",
      "182468             NaN               17 S High St.           COLUMBUS   \n",
      "\n",
      "       BankState  BankZip SOLDSECMRTIND ApprovalDate  ApprovalFiscalYear  \\\n",
      "0             AZ  85004.0             N    10/1/2019                2020   \n",
      "1             WA  99362.0             Y    10/1/2019                2020   \n",
      "2             OR  97470.0             Y    10/1/2019                2020   \n",
      "3             CA  90010.0             Y    10/1/2019                2020   \n",
      "4             OH  43240.0             N    10/1/2019                2020   \n",
      "...          ...      ...           ...          ...                 ...   \n",
      "182464        OH  45651.0           NaN    6/30/2023                2023   \n",
      "182465        CO  80111.0           NaN    6/30/2023                2023   \n",
      "182466        IA  50265.0           NaN    6/30/2023                2023   \n",
      "182467        CA  91352.0           NaN    6/30/2023                2023   \n",
      "182468        OH  43215.0           NaN    6/30/2023                2023   \n",
      "\n",
      "        GrossApproval  \n",
      "0            350000.0  \n",
      "1           1040000.0  \n",
      "2            987500.0  \n",
      "3             22000.0  \n",
      "4             49000.0  \n",
      "...               ...  \n",
      "182464      1847600.0  \n",
      "182465       224800.0  \n",
      "182466       350000.0  \n",
      "182467       280700.0  \n",
      "182468       100000.0  \n",
      "\n",
      "[182469 rows x 16 columns]\n"
     ]
    }
   ],
   "source": [
    "columns_to_keep = [\n",
    "    'BorrName', 'BorrStreet', 'BorrCity', 'BorrState', 'BorrZip',\n",
    "    'BankName', 'BankFDICNumber', 'BankNCUANumber', 'BankStreet',\n",
    "    'BankCity', 'BankState', 'BankZip','SOLDSECMRTIND','ApprovalDate','ApprovalFiscalYear','GrossApproval'\n",
    "]\n",
    "\n",
    "df1 = df[columns_to_keep]\n",
    "\n",
    "print(\"DataFrame (df1) with only the desired columns:\")\n",
    "print(df1)"
   ]
  },
  {
   "cell_type": "code",
   "execution_count": 12,
   "metadata": {
    "colab": {
     "base_uri": "https://localhost:8080/"
    },
    "id": "oaHB_EU5IQPM",
    "outputId": "0137538c-b091-4c25-898e-2aa69824202f"
   },
   "outputs": [
    {
     "name": "stdout",
     "output_type": "stream",
     "text": [
      "<class 'pandas.core.frame.DataFrame'>\n",
      "RangeIndex: 182469 entries, 0 to 182468\n",
      "Data columns (total 16 columns):\n",
      " #   Column              Non-Null Count   Dtype  \n",
      "---  ------              --------------   -----  \n",
      " 0   BorrName            182467 non-null  object \n",
      " 1   BorrStreet          182469 non-null  object \n",
      " 2   BorrCity            182469 non-null  object \n",
      " 3   BorrState           182469 non-null  object \n",
      " 4   BorrZip             182469 non-null  int64  \n",
      " 5   BankName            182469 non-null  object \n",
      " 6   BankFDICNumber      164739 non-null  float64\n",
      " 7   BankNCUANumber      5384 non-null    float64\n",
      " 8   BankStreet          182466 non-null  object \n",
      " 9   BankCity            182466 non-null  object \n",
      " 10  BankState           182466 non-null  object \n",
      " 11  BankZip             182466 non-null  float64\n",
      " 12  SOLDSECMRTIND       63955 non-null   object \n",
      " 13  ApprovalDate        182469 non-null  object \n",
      " 14  ApprovalFiscalYear  182469 non-null  int64  \n",
      " 15  GrossApproval       182465 non-null  float64\n",
      "dtypes: float64(4), int64(2), object(10)\n",
      "memory usage: 22.3+ MB\n",
      "None\n"
     ]
    }
   ],
   "source": [
    "print(df1.info())"
   ]
  },
  {
   "cell_type": "markdown",
   "metadata": {
    "id": "PcMBz_gfKRMZ"
   },
   "source": [
    "## Considering the loans for the Fiscal Year 2023"
   ]
  },
  {
   "cell_type": "code",
   "execution_count": 13,
   "metadata": {
    "colab": {
     "base_uri": "https://localhost:8080/"
    },
    "id": "Lxd-vfb4D9La",
    "outputId": "8626a93e-6457-47b2-c848-4b2073f004d7"
   },
   "outputs": [
    {
     "name": "stdout",
     "output_type": "stream",
     "text": [
      "                              BorrName                   BorrStreet  \\\n",
      "141836  Empire Properties Investment L            1683 CATTLEMEN RD   \n",
      "141837              First In Class LLC           333 N. Lagrange Rd   \n",
      "141838             KEEP WALKING ON LLC                 249 SMITH ST   \n",
      "141839               Chile Relleno LLC       194 East Carson Street   \n",
      "141840  COAST TO COAST RESTORATION INC  1392 Poinsettia Ave Suite E   \n",
      "\n",
      "              BorrCity BorrState  BorrZip  \\\n",
      "141836        SARASOTA        FL    34232   \n",
      "141837  LA GRANGE PARK        IL    60526   \n",
      "141838        BROOKLYN        NY    11231   \n",
      "141839          Carson        CA    90745   \n",
      "141840           VISTA        CA    92081   \n",
      "\n",
      "                                      BankName  BankFDICNumber  \\\n",
      "141836                      First Chatham Bank         57252.0   \n",
      "141837                             Byline Bank         20624.0   \n",
      "141838                Brooklyn Cooperative FCU             NaN   \n",
      "141839  CDC Small Business Finance Corporation             NaN   \n",
      "141840  Wells Fargo Bank, National Association          3511.0   \n",
      "\n",
      "        BankNCUANumber                  BankStreet       BankCity BankState  \\\n",
      "141836             NaN              111 Barnard St       SAVANNAH        GA   \n",
      "141837             NaN   180 N LaSalle St, Ste 300        CHICAGO        IL   \n",
      "141838         24642.0             1474 Myrtle Ave  NEW YORK CITY        NY   \n",
      "141839             NaN  2448 Historic Decatur Road      San Diego        CA   \n",
      "141840             NaN           101 N Philips Ave    SIOUX FALLS        SD   \n",
      "\n",
      "        BankZip SOLDSECMRTIND ApprovalDate  ApprovalFiscalYear  GrossApproval  \n",
      "141836  31401.0           NaN    10/1/2022                2023      1915000.0  \n",
      "141837  60601.0             Y    10/1/2022                2023       685000.0  \n",
      "141838  11237.0           NaN    10/1/2022                2023        10000.0  \n",
      "141839  92106.0             Y    10/1/2022                2023       103000.0  \n",
      "141840  57104.0           NaN    10/2/2022                2023       866000.0   \n",
      "\n",
      " 40633\n"
     ]
    }
   ],
   "source": [
    "fy2023 = df1[df1['ApprovalFiscalYear'] == 2023]\n",
    "print(fy2023.head(5), '\\n\\n', len(fy2023) )"
   ]
  },
  {
   "cell_type": "code",
   "execution_count": 14,
   "metadata": {
    "colab": {
     "base_uri": "https://localhost:8080/"
    },
    "id": "pJCEL0mlI8ZD",
    "outputId": "a7e87403-a85f-4d4c-8127-52e630dac351"
   },
   "outputs": [
    {
     "name": "stdout",
     "output_type": "stream",
     "text": [
      "BorrName                  0\n",
      "BorrStreet                0\n",
      "BorrCity                  0\n",
      "BorrState                 0\n",
      "BorrZip                   0\n",
      "BankName                  0\n",
      "BankFDICNumber         4229\n",
      "BankNCUANumber        39547\n",
      "BankStreet                3\n",
      "BankCity                  3\n",
      "BankState                 3\n",
      "BankZip                   3\n",
      "SOLDSECMRTIND         34390\n",
      "ApprovalDate              0\n",
      "ApprovalFiscalYear        0\n",
      "GrossApproval             0\n",
      "dtype: int64\n"
     ]
    }
   ],
   "source": [
    "null_counts = fy2023.isnull().sum()\n",
    "print(null_counts)"
   ]
  },
  {
   "cell_type": "markdown",
   "metadata": {
    "id": "BcykveXiJmvG"
   },
   "source": [
    "## To check the number of data points sold on sec. market and then further filter out rows not sold on sec. market"
   ]
  },
  {
   "cell_type": "code",
   "execution_count": 15,
   "metadata": {
    "colab": {
     "base_uri": "https://localhost:8080/"
    },
    "id": "e_qCGNFmJNJY",
    "outputId": "4f06a02a-0744-4f04-dd16-2c3c6bdc5e6a"
   },
   "outputs": [
    {
     "name": "stdout",
     "output_type": "stream",
     "text": [
      "NaN    34390\n",
      "Y       6243\n",
      "Name: SOLDSECMRTIND, dtype: int64\n"
     ]
    }
   ],
   "source": [
    "unique_counts = fy2023['SOLDSECMRTIND'].value_counts(dropna=False)\n",
    "print(unique_counts)"
   ]
  },
  {
   "cell_type": "code",
   "execution_count": 16,
   "metadata": {
    "colab": {
     "base_uri": "https://localhost:8080/"
    },
    "id": "kP7BHBr6JNL6",
    "outputId": "74e4ed9c-2a50-4a94-bd78-3bd2d5d8b7da"
   },
   "outputs": [
    {
     "name": "stdout",
     "output_type": "stream",
     "text": [
      "34390\n"
     ]
    }
   ],
   "source": [
    "fy2023_NS = fy2023[fy2023['SOLDSECMRTIND'].isna()]\n",
    "print(len(fy2023_NS))"
   ]
  },
  {
   "cell_type": "markdown",
   "metadata": {
    "id": "bt49iiQxMiao"
   },
   "source": [
    "## Checking if any duplicate entries for the same borrower and lenders with the same gross approval amount and the approval date"
   ]
  },
  {
   "cell_type": "code",
   "execution_count": 17,
   "metadata": {
    "colab": {
     "base_uri": "https://localhost:8080/"
    },
    "id": "yk5EKexRMy6o",
    "outputId": "aefcea2c-be5c-4bb2-928f-3221afd63d66"
   },
   "outputs": [
    {
     "name": "stdout",
     "output_type": "stream",
     "text": [
      "                            BorrName                    BorrStreet  \\\n",
      "141860  Steady Flux Technologies LLC  1522/1520A and 1524 NW Balla   \n",
      "141890  Steady Flux Technologies LLC  1522/1520A and 1524 NW Balla   \n",
      "141961             Rupinderjit Singh            181 Eaton Ridge Dr   \n",
      "141964    Goulet Custom Plumbing LLP          10034 Evening Sun Ct   \n",
      "141965             Rupinderjit Singh            181 Eaton Ridge Dr   \n",
      "...                              ...                           ...   \n",
      "180368                       GNR INC              1813 30th Ave SW   \n",
      "180459        Holt Machinery Company                504 Raritan St   \n",
      "180461        Holt Machinery Company                504 Raritan St   \n",
      "181069                  MJR Auto LLC         3900 Lake Drive Ave N   \n",
      "181105                  MJR Auto LLC         3900 Lake Drive Ave N   \n",
      "\n",
      "              BorrCity BorrState  BorrZip                      BankName  \\\n",
      "141860         Seattle        WA    98107  KeyBank National Association   \n",
      "141890         Seattle        WA    98107  KeyBank National Association   \n",
      "141961  Sagamore Hills        OH    44067  The Huntington National Bank   \n",
      "141964            Avon        IN    46123  The Huntington National Bank   \n",
      "141965  Sagamore Hills        OH    44067  The Huntington National Bank   \n",
      "...                ...       ...      ...                           ...   \n",
      "180368        Puyallup        WA    98373  KeyBank National Association   \n",
      "180459      Sayreville        NJ     8872               ConnectOne Bank   \n",
      "180461      Sayreville        NJ     8872               ConnectOne Bank   \n",
      "181069     Robbinsdale        MN    55422             Affinity Plus FCU   \n",
      "181105     Robbinsdale        MN    55422             Affinity Plus FCU   \n",
      "\n",
      "        BankFDICNumber  BankNCUANumber                   BankStreet  \\\n",
      "141860         17534.0             NaN                127 Public Sq   \n",
      "141890         17534.0             NaN                127 Public Sq   \n",
      "141961          6560.0             NaN                17 S High St.   \n",
      "141964          6560.0             NaN                17 S High St.   \n",
      "141965          6560.0             NaN                17 S High St.   \n",
      "...                ...             ...                          ...   \n",
      "180368         17534.0             NaN                127 Public Sq   \n",
      "180459         57919.0             NaN               301 Sylvan Ave   \n",
      "180461         57919.0             NaN               301 Sylvan Ave   \n",
      "181069             NaN         24362.0  175 W Lafayette Frontage Rd   \n",
      "181105             NaN         24362.0  175 W Lafayette Frontage Rd   \n",
      "\n",
      "                BankCity BankState  BankZip SOLDSECMRTIND ApprovalDate  \\\n",
      "141860         CLEVELAND        OH  44114.0           NaN    10/3/2022   \n",
      "141890         CLEVELAND        OH  44114.0           NaN    10/3/2022   \n",
      "141961          COLUMBUS        OH  43215.0           NaN    10/3/2022   \n",
      "141964          COLUMBUS        OH  43215.0           NaN    10/3/2022   \n",
      "141965          COLUMBUS        OH  43215.0           NaN    10/3/2022   \n",
      "...                  ...       ...      ...           ...          ...   \n",
      "180368         CLEVELAND        OH  44114.0           NaN    6/20/2023   \n",
      "180459  ENGLEWOOD CLIFFS        NJ   7632.0           NaN    6/20/2023   \n",
      "180461  ENGLEWOOD CLIFFS        NJ   7632.0           NaN    6/20/2023   \n",
      "181069        SAINT PAUL        MN  55107.0           NaN    6/23/2023   \n",
      "181105        SAINT PAUL        MN  55107.0           NaN    6/23/2023   \n",
      "\n",
      "        ApprovalFiscalYear  GrossApproval  \n",
      "141860                2023       500000.0  \n",
      "141890                2023       500000.0  \n",
      "141961                2023       146500.0  \n",
      "141964                2023        69700.0  \n",
      "141965                2023       146500.0  \n",
      "...                    ...            ...  \n",
      "180368                2023       625000.0  \n",
      "180459                2023      1700000.0  \n",
      "180461                2023      1700000.0  \n",
      "181069                2023        90000.0  \n",
      "181105                2023        90000.0  \n",
      "\n",
      "[297 rows x 16 columns]\n"
     ]
    }
   ],
   "source": [
    "# checking for duplicate entries based on borrower and lender\n",
    "duplicate_entries = fy2023_NS.duplicated(subset=['BorrName', 'GrossApproval', 'ApprovalDate', 'BorrCity', 'BankCity', 'BorrState', 'BankState'], keep=False)\n",
    "# filtering the data to show only the duplicate entries\n",
    "duplicate_entries_df = fy2023_NS[duplicate_entries]\n",
    "# displaying the duplicate entries DataFrame\n",
    "print(duplicate_entries_df)"
   ]
  },
  {
   "cell_type": "code",
   "execution_count": 18,
   "metadata": {
    "id": "28tOJbxTOel6"
   },
   "outputs": [],
   "source": [
    "duplicate_entries_df.to_csv('2check.csv')"
   ]
  },
  {
   "cell_type": "markdown",
   "metadata": {
    "id": "HMpE6KSzPxFF"
   },
   "source": [
    "## Dropping the duplicate rows"
   ]
  },
  {
   "cell_type": "code",
   "execution_count": 19,
   "metadata": {
    "colab": {
     "base_uri": "https://localhost:8080/"
    },
    "id": "C0Um-O_JPp2Q",
    "outputId": "5e73e152-c7f0-42c2-9fa9-b7629bc5da63"
   },
   "outputs": [
    {
     "name": "stdout",
     "output_type": "stream",
     "text": [
      "                              BorrName                   BorrStreet  \\\n",
      "141836  Empire Properties Investment L            1683 CATTLEMEN RD   \n",
      "141838             KEEP WALKING ON LLC                 249 SMITH ST   \n",
      "141840  COAST TO COAST RESTORATION INC  1392 Poinsettia Ave Suite E   \n",
      "141841                 Two Bananas LLC           47 Exchange Street   \n",
      "141843                  Paradise 2 LLC            727 W. MADISON ST   \n",
      "...                                ...                          ...   \n",
      "182464         Good News Ventures Inc.              2982 Trueman Ct   \n",
      "182465              Our Delta Wash LLC              111 N Highway 6   \n",
      "182466        Spring City Pharmacy LLC          101 N Walnut Street   \n",
      "182467  Eighty-Seven Inc. Retirement P    1408 Northland Dr Ste 103   \n",
      "182468                  Dafoe Law PLLC          160 S Main St Ste 4   \n",
      "\n",
      "           BorrCity BorrState  BorrZip  \\\n",
      "141836     SARASOTA        FL    34232   \n",
      "141838     BROOKLYN        NY    11231   \n",
      "141840        VISTA        CA    92081   \n",
      "141841     PORTLAND        ME     4101   \n",
      "141843      CHICAGO        IL    60661   \n",
      "...             ...       ...      ...   \n",
      "182464   Grove City        OH    43123   \n",
      "182465        Delta        UT    84624   \n",
      "182466       Colfax        IA    50054   \n",
      "182467   Saint Paul        MN    55120   \n",
      "182468  Frankenmuth        MI    48734   \n",
      "\n",
      "                                          BankName  BankFDICNumber  \\\n",
      "141836                          First Chatham Bank         57252.0   \n",
      "141838                    Brooklyn Cooperative FCU             NaN   \n",
      "141840      Wells Fargo Bank, National Association          3511.0   \n",
      "141841                         Norway Savings Bank         17658.0   \n",
      "141843           Gulf Coast Bank and Trust Company         32974.0   \n",
      "...                                            ...             ...   \n",
      "182464             The Vinton County National Bank          6636.0   \n",
      "182465  Community Banks of Colorado, A Division of         59052.0   \n",
      "182466                          State Savings Bank           248.0   \n",
      "182467                         Mission Valley Bank         57101.0   \n",
      "182468                The Huntington National Bank          6560.0   \n",
      "\n",
      "        BankNCUANumber                  BankStreet           BankCity  \\\n",
      "141836             NaN              111 Barnard St           SAVANNAH   \n",
      "141838         24642.0             1474 Myrtle Ave      NEW YORK CITY   \n",
      "141840             NaN           101 N Philips Ave        SIOUX FALLS   \n",
      "141841             NaN                 261 Main St             NORWAY   \n",
      "141843             NaN         200 St. Charles Ave        NEW ORLEANS   \n",
      "...                ...                         ...                ...   \n",
      "182464             NaN               112 W Main St           MCARTHUR   \n",
      "182465             NaN  7800 E Orchard Rd, Ste 200  GREENWOOD VILLAGE   \n",
      "182466             NaN       4800 Mills Civic Pkwy    WEST DES MOINES   \n",
      "182467             NaN           9116 Sunland Blvd         SUN VALLEY   \n",
      "182468             NaN               17 S High St.           COLUMBUS   \n",
      "\n",
      "       BankState  BankZip SOLDSECMRTIND ApprovalDate  ApprovalFiscalYear  \\\n",
      "141836        GA  31401.0           NaN    10/1/2022                2023   \n",
      "141838        NY  11237.0           NaN    10/1/2022                2023   \n",
      "141840        SD  57104.0           NaN    10/2/2022                2023   \n",
      "141841        ME   4268.0           NaN    10/2/2022                2023   \n",
      "141843        LA  70130.0           NaN    10/3/2022                2023   \n",
      "...          ...      ...           ...          ...                 ...   \n",
      "182464        OH  45651.0           NaN    6/30/2023                2023   \n",
      "182465        CO  80111.0           NaN    6/30/2023                2023   \n",
      "182466        IA  50265.0           NaN    6/30/2023                2023   \n",
      "182467        CA  91352.0           NaN    6/30/2023                2023   \n",
      "182468        OH  43215.0           NaN    6/30/2023                2023   \n",
      "\n",
      "        GrossApproval  \n",
      "141836      1915000.0  \n",
      "141838        10000.0  \n",
      "141840       866000.0  \n",
      "141841       387900.0  \n",
      "141843       521000.0  \n",
      "...               ...  \n",
      "182464      1847600.0  \n",
      "182465       224800.0  \n",
      "182466       350000.0  \n",
      "182467       280700.0  \n",
      "182468       100000.0  \n",
      "\n",
      "[34235 rows x 16 columns]\n",
      "34235\n"
     ]
    }
   ],
   "source": [
    "# dropping duplicate entries based on borrower, lender, gross approval amount, and approval date\n",
    "cleaned_fy2023 = fy2023_NS.drop_duplicates(subset=['BorrName', 'BankName', 'GrossApproval', 'ApprovalDate'])\n",
    "print(cleaned_fy2023)\n",
    "print(len(cleaned_fy2023))"
   ]
  },
  {
   "cell_type": "code",
   "execution_count": 20,
   "metadata": {
    "colab": {
     "base_uri": "https://localhost:8080/"
    },
    "id": "ArV0XG-8Pp4q",
    "outputId": "8400f7a9-0507-488f-e756-78364783ca90"
   },
   "outputs": [
    {
     "name": "stdout",
     "output_type": "stream",
     "text": [
      "BorrName                  0\n",
      "BorrStreet                0\n",
      "BorrCity                  0\n",
      "BorrState                 0\n",
      "BorrZip                   0\n",
      "BankName                  0\n",
      "BankFDICNumber         2727\n",
      "BankNCUANumber        33251\n",
      "BankStreet                3\n",
      "BankCity                  3\n",
      "BankState                 3\n",
      "BankZip                   3\n",
      "SOLDSECMRTIND         34235\n",
      "ApprovalDate              0\n",
      "ApprovalFiscalYear        0\n",
      "GrossApproval             0\n",
      "dtype: int64\n"
     ]
    }
   ],
   "source": [
    "null_counts = cleaned_fy2023.isnull().sum()\n",
    "print(null_counts)"
   ]
  },
  {
   "cell_type": "markdown",
   "metadata": {
    "id": "tqpoDdbFRl9a"
   },
   "source": [
    "## Checking for entries with no Bank Address/Zip and dropping these rows"
   ]
  },
  {
   "cell_type": "code",
   "execution_count": 21,
   "metadata": {
    "colab": {
     "base_uri": "https://localhost:8080/"
    },
    "id": "3b5RwpYhPp-I",
    "outputId": "d95c48f4-34d1-4da9-8a89-11ccb571b4c1"
   },
   "outputs": [
    {
     "name": "stdout",
     "output_type": "stream",
     "text": [
      "Rows with no BankZip:\n",
      "                             BorrName                BorrStreet     BorrCity  \\\n",
      "177018           Langner Holdings LLC  2931 S Washington Street    Englewood   \n",
      "179823         Coston Enterprises Inc       18337 PENNINGTON RD  NOBLESVILLE   \n",
      "180773  Mission Critical Systems Inc.  8601 Turnpike Drive #105  Westminster   \n",
      "\n",
      "       BorrState  BorrZip           BankName  BankFDICNumber  BankNCUANumber  \\\n",
      "177018        CO    80113  MISSINGMAINBANKID             NaN             NaN   \n",
      "179823        IN    46060  MISSINGMAINBANKID             NaN             NaN   \n",
      "180773        CO    80031  MISSINGMAINBANKID             NaN             NaN   \n",
      "\n",
      "       BankStreet BankCity BankState  BankZip SOLDSECMRTIND ApprovalDate  \\\n",
      "177018        NaN      NaN       NaN      NaN           NaN    5/26/2023   \n",
      "179823        NaN      NaN       NaN      NaN           NaN    6/14/2023   \n",
      "180773        NaN      NaN       NaN      NaN           NaN    6/21/2023   \n",
      "\n",
      "        ApprovalFiscalYear  GrossApproval  \n",
      "177018                2023       440200.0  \n",
      "179823                2023       610000.0  \n",
      "180773                2023      1350000.0  \n"
     ]
    }
   ],
   "source": [
    "rows_with_no_BankZip = cleaned_fy2023[cleaned_fy2023['BankZip'].isna()]\n",
    "print(\"Rows with no BankZip:\")\n",
    "print(rows_with_no_BankZip)"
   ]
  },
  {
   "cell_type": "code",
   "execution_count": 22,
   "metadata": {
    "colab": {
     "base_uri": "https://localhost:8080/"
    },
    "id": "iVQibn0dPqAc",
    "outputId": "7c593b64-af0c-4518-b0ae-f5f00a99295d"
   },
   "outputs": [
    {
     "name": "stdout",
     "output_type": "stream",
     "text": [
      "                              BorrName                   BorrStreet  \\\n",
      "141836  Empire Properties Investment L            1683 CATTLEMEN RD   \n",
      "141838             KEEP WALKING ON LLC                 249 SMITH ST   \n",
      "141840  COAST TO COAST RESTORATION INC  1392 Poinsettia Ave Suite E   \n",
      "141841                 Two Bananas LLC           47 Exchange Street   \n",
      "141843                  Paradise 2 LLC            727 W. MADISON ST   \n",
      "...                                ...                          ...   \n",
      "182464         Good News Ventures Inc.              2982 Trueman Ct   \n",
      "182465              Our Delta Wash LLC              111 N Highway 6   \n",
      "182466        Spring City Pharmacy LLC          101 N Walnut Street   \n",
      "182467  Eighty-Seven Inc. Retirement P    1408 Northland Dr Ste 103   \n",
      "182468                  Dafoe Law PLLC          160 S Main St Ste 4   \n",
      "\n",
      "           BorrCity BorrState  BorrZip  \\\n",
      "141836     SARASOTA        FL    34232   \n",
      "141838     BROOKLYN        NY    11231   \n",
      "141840        VISTA        CA    92081   \n",
      "141841     PORTLAND        ME     4101   \n",
      "141843      CHICAGO        IL    60661   \n",
      "...             ...       ...      ...   \n",
      "182464   Grove City        OH    43123   \n",
      "182465        Delta        UT    84624   \n",
      "182466       Colfax        IA    50054   \n",
      "182467   Saint Paul        MN    55120   \n",
      "182468  Frankenmuth        MI    48734   \n",
      "\n",
      "                                          BankName  BankFDICNumber  \\\n",
      "141836                          First Chatham Bank         57252.0   \n",
      "141838                    Brooklyn Cooperative FCU             NaN   \n",
      "141840      Wells Fargo Bank, National Association          3511.0   \n",
      "141841                         Norway Savings Bank         17658.0   \n",
      "141843           Gulf Coast Bank and Trust Company         32974.0   \n",
      "...                                            ...             ...   \n",
      "182464             The Vinton County National Bank          6636.0   \n",
      "182465  Community Banks of Colorado, A Division of         59052.0   \n",
      "182466                          State Savings Bank           248.0   \n",
      "182467                         Mission Valley Bank         57101.0   \n",
      "182468                The Huntington National Bank          6560.0   \n",
      "\n",
      "        BankNCUANumber                  BankStreet           BankCity  \\\n",
      "141836             NaN              111 Barnard St           SAVANNAH   \n",
      "141838         24642.0             1474 Myrtle Ave      NEW YORK CITY   \n",
      "141840             NaN           101 N Philips Ave        SIOUX FALLS   \n",
      "141841             NaN                 261 Main St             NORWAY   \n",
      "141843             NaN         200 St. Charles Ave        NEW ORLEANS   \n",
      "...                ...                         ...                ...   \n",
      "182464             NaN               112 W Main St           MCARTHUR   \n",
      "182465             NaN  7800 E Orchard Rd, Ste 200  GREENWOOD VILLAGE   \n",
      "182466             NaN       4800 Mills Civic Pkwy    WEST DES MOINES   \n",
      "182467             NaN           9116 Sunland Blvd         SUN VALLEY   \n",
      "182468             NaN               17 S High St.           COLUMBUS   \n",
      "\n",
      "       BankState  BankZip SOLDSECMRTIND ApprovalDate  ApprovalFiscalYear  \\\n",
      "141836        GA  31401.0           NaN    10/1/2022                2023   \n",
      "141838        NY  11237.0           NaN    10/1/2022                2023   \n",
      "141840        SD  57104.0           NaN    10/2/2022                2023   \n",
      "141841        ME   4268.0           NaN    10/2/2022                2023   \n",
      "141843        LA  70130.0           NaN    10/3/2022                2023   \n",
      "...          ...      ...           ...          ...                 ...   \n",
      "182464        OH  45651.0           NaN    6/30/2023                2023   \n",
      "182465        CO  80111.0           NaN    6/30/2023                2023   \n",
      "182466        IA  50265.0           NaN    6/30/2023                2023   \n",
      "182467        CA  91352.0           NaN    6/30/2023                2023   \n",
      "182468        OH  43215.0           NaN    6/30/2023                2023   \n",
      "\n",
      "        GrossApproval  \n",
      "141836      1915000.0  \n",
      "141838        10000.0  \n",
      "141840       866000.0  \n",
      "141841       387900.0  \n",
      "141843       521000.0  \n",
      "...               ...  \n",
      "182464      1847600.0  \n",
      "182465       224800.0  \n",
      "182466       350000.0  \n",
      "182467       280700.0  \n",
      "182468       100000.0  \n",
      "\n",
      "[34232 rows x 16 columns]\n",
      "34232\n"
     ]
    }
   ],
   "source": [
    "cleaned_fy2023 = cleaned_fy2023.dropna(subset=['BankZip'])\n",
    "print(cleaned_fy2023)\n",
    "print(len(cleaned_fy2023))"
   ]
  },
  {
   "cell_type": "code",
   "execution_count": 23,
   "metadata": {
    "id": "q39ryn70UbKV"
   },
   "outputs": [],
   "source": [
    "cleaned_fy2023.to_csv('Cleaned_fy2023.csv')"
   ]
  },
  {
   "cell_type": "markdown",
   "metadata": {
    "id": "DEi_FmleU2oP"
   },
   "source": [
    "## How often are small business borrowers and their SBA lenders located in their same city?"
   ]
  },
  {
   "cell_type": "code",
   "execution_count": 24,
   "metadata": {
    "colab": {
     "base_uri": "https://localhost:8080/"
    },
    "id": "dIpUb1w9U6yt",
    "outputId": "adb22198-cee5-48ff-a8e6-789ba7fe6293"
   },
   "outputs": [
    {
     "name": "stdout",
     "output_type": "stream",
     "text": [
      "The percentage of small business borrowers and their SBA lenders located in the same city is: 3.03%\n"
     ]
    }
   ],
   "source": [
    "# counting the occurrences where borrower and lender are located in the same city\n",
    "same_city_count = (cleaned_fy2023['BorrCity'] == cleaned_fy2023['BankCity']).sum()\n",
    "# calculating the total number of observations\n",
    "total_observations = len(cleaned_fy2023)\n",
    "# calculating the percentage of borrowers and lenders located in the same city\n",
    "percentage_same_city = (same_city_count / total_observations) * 100\n",
    "\n",
    "print(f\"The percentage of small business borrowers and their SBA lenders located in the same city is: {percentage_same_city:.2f}%\")\n"
   ]
  },
  {
   "cell_type": "markdown",
   "metadata": {
    "id": "gNkvSVpuEVHB"
   },
   "source": [
    "## The percentage of small business borrowers and their SBA lenders located in the same city is: 3.03%"
   ]
  },
  {
   "cell_type": "code",
   "execution_count": 25,
   "metadata": {
    "colab": {
     "base_uri": "https://localhost:8080/",
     "height": 564
    },
    "id": "X6dniRMeVjHV",
    "outputId": "d71ba9ce-8747-418c-b5b2-fb632621c8a9"
   },
   "outputs": [
    {
     "data": {
      "image/png": "[encoded data removed]",
      "text/plain": [
       "<Figure size 576x432 with 1 Axes>"
      ]
     },
     "metadata": {
      "needs_background": "light"
     },
     "output_type": "display_data"
    }
   ],
   "source": [
    "import matplotlib.pyplot as plt\n",
    "\n",
    "# defining labels and values for the bar plot\n",
    "labels = ['Same City', 'Different City']\n",
    "values = [same_city_count, total_observations - same_city_count]\n",
    "\n",
    "# creating the bar plot\n",
    "plt.figure(figsize=(8, 6))\n",
    "plt.bar(labels, values, color=['skyblue', 'lightcoral'])\n",
    "plt.title('Borrower and Lender City Relationship')\n",
    "plt.xlabel('Location Relationship')\n",
    "plt.ylabel('Number of Observations')\n",
    "\n",
    "# displaying the percentage on top of each bar\n",
    "for i, value in enumerate(values):\n",
    "    plt.text(i, value + 100, f\"{value} ({(value/total_observations*100):.2f}%)\", ha='center')\n",
    "\n",
    "# Show plot\n",
    "plt.show()\n"
   ]
  },
  {
   "cell_type": "markdown",
   "metadata": {
    "id": "wKUxsnRdVx9U"
   },
   "source": [
    "## How often are small business borrowers and their SBA lenders located in their same state?"
   ]
  },
  {
   "cell_type": "code",
   "execution_count": 26,
   "metadata": {
    "colab": {
     "base_uri": "https://localhost:8080/"
    },
    "id": "adjQh3QcV1Lt",
    "outputId": "5f54fab8-5a03-45d8-e9e3-93be015cd038"
   },
   "outputs": [
    {
     "name": "stdout",
     "output_type": "stream",
     "text": [
      "The percentage of small business borrowers and their SBA lenders located in the same state is: 34.46%\n"
     ]
    }
   ],
   "source": [
    "# counting the occurrences where borrower and lender are located in the same state\n",
    "same_state_count = (cleaned_fy2023['BorrState'] == cleaned_fy2023['BankState']).sum()\n",
    "# calculating the percentage of borrowers and lenders located in the same state\n",
    "percentage_same_state = (same_state_count / total_observations) * 100\n",
    "\n",
    "print(f\"The percentage of small business borrowers and their SBA lenders located in the same state is: {percentage_same_state:.2f}%\")\n"
   ]
  },
  {
   "cell_type": "markdown",
   "metadata": {
    "id": "Dc7rMF_DEPJ_"
   },
   "source": [
    "## The percentage of small business borrowers and their SBA lenders located in the same state is: 34.46%"
   ]
  },
  {
   "cell_type": "code",
   "execution_count": 27,
   "metadata": {
    "colab": {
     "base_uri": "https://localhost:8080/",
     "height": 521
    },
    "id": "8abLAIK4WSkg",
    "outputId": "0f007703-bc56-4b52-8ab3-aa7fa187ad5d"
   },
   "outputs": [
    {
     "data": {
      "image/png": "[encoded data removed]",
      "text/plain": [
       "<Figure size 720x432 with 1 Axes>"
      ]
     },
     "metadata": {
      "needs_background": "light"
     },
     "output_type": "display_data"
    }
   ],
   "source": [
    "categories = ['Same State', 'Different State']\n",
    "values = [75, 25]  # Replace these values with your actual data\n",
    "\n",
    "# Creating the bar chart with a specified, reasonable figure size\n",
    "plt.figure(figsize=(10, 6))  # Adjust the figsize if needed, but keep it reasonable\n",
    "plt.bar(categories, values, color=['skyblue', 'lightgreen'])\n",
    "plt.xlabel('Location Match')\n",
    "plt.ylabel('Percentage')\n",
    "plt.title('Percentage of Small Business Borrowers and Their SBA Lenders by Location Match')\n",
    "plt.ylim(0, 100)  # Ensuring the y-axis starts at 0 and ends at 100 for clarity\n",
    "for i, value in enumerate(values):\n",
    "    plt.text(i, value + 1, f\"{value}%\", ha='center', va='bottom')\n",
    "plt.show()"
   ]
  },
  {
   "cell_type": "markdown",
   "metadata": {
    "id": "N036eGPiWtuB"
   },
   "source": [
    "## How often are small business borrowers and their SBA lenders located within a 50 mile radius?"
   ]
  },
  {
   "cell_type": "code",
   "execution_count": 4,
   "metadata": {
    "id": "IPnsAb9O40at"
   },
   "outputs": [
    {
     "name": "stdout",
     "output_type": "stream",
     "text": [
      "Collecting geopy\n",
      "  Downloading geopy-2.4.1-py3-none-any.whl (125 kB)\n",
      "\u001b[K     |████████████████████████████████| 125 kB 1.6 MB/s eta 0:00:01\n",
      "\u001b[?25hCollecting geographiclib<3,>=1.52\n",
      "  Downloading geographiclib-2.0-py3-none-any.whl (40 kB)\n",
      "\u001b[K     |████████████████████████████████| 40 kB 2.8 MB/s eta 0:00:01\n",
      "\u001b[?25hInstalling collected packages: geographiclib, geopy\n",
      "Successfully installed geographiclib-2.0 geopy-2.4.1\n",
      "Note: you may need to restart the kernel to use updated packages.\n"
     ]
    }
   ],
   "source": [
    "pip install geopy"
   ]
  },
  {
   "cell_type": "code",
   "execution_count": 7,
   "metadata": {},
   "outputs": [
    {
     "name": "stdout",
     "output_type": "stream",
     "text": [
      "Requirement already satisfied: pyzipcode3 in /Users/vineethreddy/opt/anaconda3/lib/python3.9/site-packages (2.2)\n",
      "Note: you may need to restart the kernel to use updated packages.\n"
     ]
    }
   ],
   "source": [
    "pip install pyzipcode3"
   ]
  },
  {
   "cell_type": "code",
   "execution_count": 5,
   "metadata": {
    "id": "MzxnSzkc3TIt"
   },
   "outputs": [],
   "source": [
    "from pyzipcode import ZipCodeDatabase\n",
    "from geopy.distance import geodesic"
   ]
  },
  {
   "cell_type": "code",
   "execution_count": 28,
   "metadata": {
    "colab": {
     "base_uri": "https://localhost:8080/"
    },
    "id": "yVPM0Tkq492U",
    "outputId": "dfacf30e-540b-4a57-a8fe-b71d3a3ca6ea"
   },
   "outputs": [
    {
     "name": "stdout",
     "output_type": "stream",
     "text": [
      "                              BorrName                   BorrStreet  \\\n",
      "141836  Empire Properties Investment L            1683 CATTLEMEN RD   \n",
      "141838             KEEP WALKING ON LLC                 249 SMITH ST   \n",
      "141840  COAST TO COAST RESTORATION INC  1392 Poinsettia Ave Suite E   \n",
      "141841                 Two Bananas LLC           47 Exchange Street   \n",
      "141843                  Paradise 2 LLC            727 W. MADISON ST   \n",
      "...                                ...                          ...   \n",
      "182464         Good News Ventures Inc.              2982 Trueman Ct   \n",
      "182465              Our Delta Wash LLC              111 N Highway 6   \n",
      "182466        Spring City Pharmacy LLC          101 N Walnut Street   \n",
      "182467  Eighty-Seven Inc. Retirement P    1408 Northland Dr Ste 103   \n",
      "182468                  Dafoe Law PLLC          160 S Main St Ste 4   \n",
      "\n",
      "           BorrCity BorrState  BorrZip  \\\n",
      "141836     SARASOTA        FL    34232   \n",
      "141838     BROOKLYN        NY    11231   \n",
      "141840        VISTA        CA    92081   \n",
      "141841     PORTLAND        ME     4101   \n",
      "141843      CHICAGO        IL    60661   \n",
      "...             ...       ...      ...   \n",
      "182464   Grove City        OH    43123   \n",
      "182465        Delta        UT    84624   \n",
      "182466       Colfax        IA    50054   \n",
      "182467   Saint Paul        MN    55120   \n",
      "182468  Frankenmuth        MI    48734   \n",
      "\n",
      "                                          BankName  BankFDICNumber  \\\n",
      "141836                          First Chatham Bank         57252.0   \n",
      "141838                    Brooklyn Cooperative FCU             NaN   \n",
      "141840      Wells Fargo Bank, National Association          3511.0   \n",
      "141841                         Norway Savings Bank         17658.0   \n",
      "141843           Gulf Coast Bank and Trust Company         32974.0   \n",
      "...                                            ...             ...   \n",
      "182464             The Vinton County National Bank          6636.0   \n",
      "182465  Community Banks of Colorado, A Division of         59052.0   \n",
      "182466                          State Savings Bank           248.0   \n",
      "182467                         Mission Valley Bank         57101.0   \n",
      "182468                The Huntington National Bank          6560.0   \n",
      "\n",
      "        BankNCUANumber                  BankStreet           BankCity  \\\n",
      "141836             NaN              111 Barnard St           SAVANNAH   \n",
      "141838         24642.0             1474 Myrtle Ave      NEW YORK CITY   \n",
      "141840             NaN           101 N Philips Ave        SIOUX FALLS   \n",
      "141841             NaN                 261 Main St             NORWAY   \n",
      "141843             NaN         200 St. Charles Ave        NEW ORLEANS   \n",
      "...                ...                         ...                ...   \n",
      "182464             NaN               112 W Main St           MCARTHUR   \n",
      "182465             NaN  7800 E Orchard Rd, Ste 200  GREENWOOD VILLAGE   \n",
      "182466             NaN       4800 Mills Civic Pkwy    WEST DES MOINES   \n",
      "182467             NaN           9116 Sunland Blvd         SUN VALLEY   \n",
      "182468             NaN               17 S High St.           COLUMBUS   \n",
      "\n",
      "       BankState  BankZip SOLDSECMRTIND ApprovalDate  ApprovalFiscalYear  \\\n",
      "141836        GA  31401.0           NaN    10/1/2022                2023   \n",
      "141838        NY  11237.0           NaN    10/1/2022                2023   \n",
      "141840        SD  57104.0           NaN    10/2/2022                2023   \n",
      "141841        ME   4268.0           NaN    10/2/2022                2023   \n",
      "141843        LA  70130.0           NaN    10/3/2022                2023   \n",
      "...          ...      ...           ...          ...                 ...   \n",
      "182464        OH  45651.0           NaN    6/30/2023                2023   \n",
      "182465        CO  80111.0           NaN    6/30/2023                2023   \n",
      "182466        IA  50265.0           NaN    6/30/2023                2023   \n",
      "182467        CA  91352.0           NaN    6/30/2023                2023   \n",
      "182468        OH  43215.0           NaN    6/30/2023                2023   \n",
      "\n",
      "        GrossApproval   ApproxDist  \n",
      "141836      1915000.0   337.490752  \n",
      "141838        10000.0     4.618249  \n",
      "141840       866000.0  1318.428971  \n",
      "141841       387900.0          NaN  \n",
      "141843       521000.0   834.943776  \n",
      "...               ...          ...  \n",
      "182464      1847600.0    52.696822  \n",
      "182465       224800.0   409.208793  \n",
      "182466       350000.0    26.057717  \n",
      "182467       280700.0  1525.527937  \n",
      "182468       100000.0   235.997149  \n",
      "\n",
      "[34232 rows x 17 columns]\n"
     ]
    }
   ],
   "source": [
    "zcdb = ZipCodeDatabase()\n",
    "\n",
    "def get_lat_long(zip_code):\n",
    "    try:\n",
    "        zip_info = zcdb[zip_code]\n",
    "        return zip_info.latitude, zip_info.longitude\n",
    "    except:\n",
    "        return None, None\n",
    "\n",
    "def calculate_distance(row):\n",
    "    try:\n",
    "        borr_zip = str(int(row['BorrZip']))\n",
    "        bank_zip = str(int(row['BankZip']))\n",
    "        borr_coords = get_lat_long(borr_zip)\n",
    "        bank_coords = get_lat_long(bank_zip)\n",
    "\n",
    "        if not all(borr_coords) or not all(bank_coords):\n",
    "            return None\n",
    "\n",
    "        distance = geodesic(borr_coords, bank_coords).miles\n",
    "        return distance\n",
    "    except Exception as e:\n",
    "        print(f\"Error processing row: {row}, Error: {e}\")\n",
    "        return None\n",
    "\n",
    "\n",
    "cleaned_fy2023['ApproxDist'] = cleaned_fy2023.apply(lambda row: calculate_distance(row), axis=1)\n",
    "\n",
    "\n",
    "print(cleaned_fy2023)"
   ]
  },
  {
   "cell_type": "markdown",
   "metadata": {
    "id": "gZ2OWp_Z7Y-X"
   },
   "source": [
    "#### Checking the rows with no distance values and dropping them"
   ]
  },
  {
   "cell_type": "code",
   "execution_count": 29,
   "metadata": {
    "colab": {
     "base_uri": "https://localhost:8080/"
    },
    "id": "QCg8Wdbk6clT",
    "outputId": "4b8a209b-1de1-4f77-f863-affc5758ab92"
   },
   "outputs": [
    {
     "name": "stdout",
     "output_type": "stream",
     "text": [
      "Number of rows with NaN in 'ApproxDist': 4332\n"
     ]
    }
   ],
   "source": [
    "nan_count = cleaned_fy2023['ApproxDist'].isna().sum()\n",
    "print(f\"Number of rows with NaN in 'ApproxDist': {nan_count}\")\n"
   ]
  },
  {
   "cell_type": "code",
   "execution_count": 30,
   "metadata": {
    "colab": {
     "base_uri": "https://localhost:8080/"
    },
    "id": "xTgE5R3R68qi",
    "outputId": "ddb638d3-21ce-4562-bf07-59377449e7fa"
   },
   "outputs": [
    {
     "name": "stdout",
     "output_type": "stream",
     "text": [
      "                             BorrName                   BorrStreet  \\\n",
      "0      Empire Properties Investment L            1683 CATTLEMEN RD   \n",
      "1                 KEEP WALKING ON LLC                 249 SMITH ST   \n",
      "2      COAST TO COAST RESTORATION INC  1392 Poinsettia Ave Suite E   \n",
      "3                      Paradise 2 LLC            727 W. MADISON ST   \n",
      "4                ACLZ Enterprises Inc        2217 BLOODS GROVE CIR   \n",
      "...                               ...                          ...   \n",
      "29895         Good News Ventures Inc.              2982 Trueman Ct   \n",
      "29896              Our Delta Wash LLC              111 N Highway 6   \n",
      "29897        Spring City Pharmacy LLC          101 N Walnut Street   \n",
      "29898  Eighty-Seven Inc. Retirement P    1408 Northland Dr Ste 103   \n",
      "29899                  Dafoe Law PLLC          160 S Main St Ste 4   \n",
      "\n",
      "           BorrCity BorrState  BorrZip  \\\n",
      "0          SARASOTA        FL    34232   \n",
      "1          BROOKLYN        NY    11231   \n",
      "2             VISTA        CA    92081   \n",
      "3           CHICAGO        IL    60661   \n",
      "4      DELRAY BEACH        FL    33445   \n",
      "...             ...       ...      ...   \n",
      "29895    Grove City        OH    43123   \n",
      "29896         Delta        UT    84624   \n",
      "29897        Colfax        IA    50054   \n",
      "29898    Saint Paul        MN    55120   \n",
      "29899   Frankenmuth        MI    48734   \n",
      "\n",
      "                                         BankName  BankFDICNumber  \\\n",
      "0                              First Chatham Bank         57252.0   \n",
      "1                        Brooklyn Cooperative FCU             NaN   \n",
      "2          Wells Fargo Bank, National Association          3511.0   \n",
      "3               Gulf Coast Bank and Trust Company         32974.0   \n",
      "4                          First Bank of the Lake         26960.0   \n",
      "...                                           ...             ...   \n",
      "29895             The Vinton County National Bank          6636.0   \n",
      "29896  Community Banks of Colorado, A Division of         59052.0   \n",
      "29897                          State Savings Bank           248.0   \n",
      "29898                         Mission Valley Bank         57101.0   \n",
      "29899                The Huntington National Bank          6560.0   \n",
      "\n",
      "       BankNCUANumber                      BankStreet           BankCity  \\\n",
      "0                 NaN                  111 Barnard St           SAVANNAH   \n",
      "1             24642.0                 1474 Myrtle Ave      NEW YORK CITY   \n",
      "2                 NaN               101 N Philips Ave        SIOUX FALLS   \n",
      "3                 NaN             200 St. Charles Ave        NEW ORLEANS   \n",
      "4                 NaN  4558 Osage Beach Pkwy, Ste 100        OSAGE BEACH   \n",
      "...               ...                             ...                ...   \n",
      "29895             NaN                   112 W Main St           MCARTHUR   \n",
      "29896             NaN      7800 E Orchard Rd, Ste 200  GREENWOOD VILLAGE   \n",
      "29897             NaN           4800 Mills Civic Pkwy    WEST DES MOINES   \n",
      "29898             NaN               9116 Sunland Blvd         SUN VALLEY   \n",
      "29899             NaN                   17 S High St.           COLUMBUS   \n",
      "\n",
      "      BankState  BankZip SOLDSECMRTIND ApprovalDate  ApprovalFiscalYear  \\\n",
      "0            GA  31401.0           NaN    10/1/2022                2023   \n",
      "1            NY  11237.0           NaN    10/1/2022                2023   \n",
      "2            SD  57104.0           NaN    10/2/2022                2023   \n",
      "3            LA  70130.0           NaN    10/3/2022                2023   \n",
      "4            MO  65065.0           NaN    10/3/2022                2023   \n",
      "...         ...      ...           ...          ...                 ...   \n",
      "29895        OH  45651.0           NaN    6/30/2023                2023   \n",
      "29896        CO  80111.0           NaN    6/30/2023                2023   \n",
      "29897        IA  50265.0           NaN    6/30/2023                2023   \n",
      "29898        CA  91352.0           NaN    6/30/2023                2023   \n",
      "29899        OH  43215.0           NaN    6/30/2023                2023   \n",
      "\n",
      "       GrossApproval   ApproxDist  \n",
      "0          1915000.0   337.490752  \n",
      "1            10000.0     4.618249  \n",
      "2           866000.0  1318.428971  \n",
      "3           521000.0   834.943776  \n",
      "4           225000.0  1087.930080  \n",
      "...              ...          ...  \n",
      "29895      1847600.0    52.696822  \n",
      "29896       224800.0   409.208793  \n",
      "29897       350000.0    26.057717  \n",
      "29898       280700.0  1525.527937  \n",
      "29899       100000.0   235.997149  \n",
      "\n",
      "[29900 rows x 17 columns]\n",
      "<class 'pandas.core.frame.DataFrame'>\n",
      "RangeIndex: 29900 entries, 0 to 29899\n",
      "Data columns (total 17 columns):\n",
      " #   Column              Non-Null Count  Dtype  \n",
      "---  ------              --------------  -----  \n",
      " 0   BorrName            29900 non-null  object \n",
      " 1   BorrStreet          29900 non-null  object \n",
      " 2   BorrCity            29900 non-null  object \n",
      " 3   BorrState           29900 non-null  object \n",
      " 4   BorrZip             29900 non-null  int64  \n",
      " 5   BankName            29900 non-null  object \n",
      " 6   BankFDICNumber      27713 non-null  float64\n",
      " 7   BankNCUANumber      807 non-null    float64\n",
      " 8   BankStreet          29900 non-null  object \n",
      " 9   BankCity            29900 non-null  object \n",
      " 10  BankState           29900 non-null  object \n",
      " 11  BankZip             29900 non-null  float64\n",
      " 12  SOLDSECMRTIND       0 non-null      object \n",
      " 13  ApprovalDate        29900 non-null  object \n",
      " 14  ApprovalFiscalYear  29900 non-null  int64  \n",
      " 15  GrossApproval       29900 non-null  float64\n",
      " 16  ApproxDist          29900 non-null  float64\n",
      "dtypes: float64(5), int64(2), object(10)\n",
      "memory usage: 3.9+ MB\n",
      "None\n"
     ]
    }
   ],
   "source": [
    "miles_df = cleaned_fy2023.dropna(subset=['ApproxDist'])\n",
    "miles_df.reset_index(drop=True, inplace=True)\n",
    "print(miles_df)\n",
    "print(miles_df.info())\n"
   ]
  },
  {
   "cell_type": "markdown",
   "metadata": {
    "id": "62zaS9qS8gr6"
   },
   "source": [
    "## Calculating the proportion of data points with borrowers and their SBA lenders located within a 50 mile radius"
   ]
  },
  {
   "cell_type": "code",
   "execution_count": 31,
   "metadata": {
    "colab": {
     "base_uri": "https://localhost:8080/"
    },
    "id": "DZ37_G907nzK",
    "outputId": "eca499a4-b07f-48d5-e29a-7bff9227788f"
   },
   "outputs": [
    {
     "name": "stdout",
     "output_type": "stream",
     "text": [
      "Number of rows with ApproxDist <= 50 miles: 5701\n",
      "Percentage of data with small business borrowers and their SBA lenders located within a 50 mile radius: 19.07%\n"
     ]
    }
   ],
   "source": [
    "# Calculate the number of rows where ApproxDist is less than or equal to 50 miles\n",
    "rows_within_50_miles = miles_df[miles_df['ApproxDist'] <= 50].shape[0]\n",
    "\n",
    "# Calculate the total number of rows in the DataFrame\n",
    "total_rows = miles_df.shape[0]\n",
    "\n",
    "# Calculate the percentage\n",
    "percentage_within_50_miles = (rows_within_50_miles / total_rows) * 100\n",
    "\n",
    "print(f\"Number of rows with ApproxDist <= 50 miles: {rows_within_50_miles}\")\n",
    "print(f\"Percentage of data with small business borrowers and their SBA lenders located within a 50 mile radius: {percentage_within_50_miles:.2f}%\")\n"
   ]
  },
  {
   "cell_type": "markdown",
   "metadata": {
    "id": "I9rgDYGqEJBz"
   },
   "source": [
    "## Percentage of data with small business borrowers and their SBA lenders located within a 50 mile radius: 19.07%"
   ]
  },
  {
   "cell_type": "code",
   "execution_count": 32,
   "metadata": {
    "colab": {
     "base_uri": "https://localhost:8080/",
     "height": 564
    },
    "id": "gSJEpXYJ863J",
    "outputId": "3b228780-f62b-414e-c2f8-8b78d5119d6a"
   },
   "outputs": [
    {
     "data": {
      "image/png": "[encoded data removed]",
      "text/plain": [
       "<Figure size 720x432 with 1 Axes>"
      ]
     },
     "metadata": {
      "needs_background": "light"
     },
     "output_type": "display_data"
    }
   ],
   "source": [
    "# creating the histogram\n",
    "plt.figure(figsize=(10, 6))\n",
    "plt.hist(miles_df['ApproxDist'], bins=range(0, int(max(miles_df['ApproxDist'])) + 50, 50), color='blue', alpha=0.7)\n",
    "\n",
    "# highlighting the ≤50 miles range\n",
    "plt.axvline(50, color='red', linestyle='dashed', linewidth=2)\n",
    "\n",
    "# adding labels and title\n",
    "plt.xlabel('Distance in Miles')\n",
    "plt.ylabel('Number of Rows')\n",
    "plt.title('Distribution of Approximate Distance between the Borrower and the Bank in miles ')\n",
    "\n",
    "\n",
    "plt.show()\n"
   ]
  },
  {
   "cell_type": "code",
   "execution_count": 33,
   "metadata": {
    "colab": {
     "base_uri": "https://localhost:8080/",
     "height": 556
    },
    "id": "xUy3EZ7UFb63",
    "outputId": "850bea0a-6f29-4642-fbb6-6a1df0f7aeaa"
   },
   "outputs": [
    {
     "data": {
      "image/png": "[encoded data removed]",
      "text/plain": [
       "<Figure size 720x432 with 1 Axes>"
      ]
     },
     "metadata": {
      "needs_background": "light"
     },
     "output_type": "display_data"
    }
   ],
   "source": [
    "# defining bins for the histogram dynamically\n",
    "max_distance = miles_df['ApproxDist'].max()\n",
    "bin_width = 50  # Bin width of 50 miles\n",
    "bins = np.arange(0, max_distance + bin_width, bin_width)  # Bins up to the maximum distance\n",
    "hist_data, bin_edges = np.histogram(miles_df['ApproxDist'], bins=bins, density=True)\n",
    "\n",
    "# converting the probability density to a percentage for each bin\n",
    "bin_widths = np.diff(bin_edges)\n",
    "hist_percentage = hist_data * bin_widths * 100  # Convert to percentage\n",
    "\n",
    "# creating the histogram plot\n",
    "plt.figure(figsize=(10, 6))\n",
    "plt.bar(bin_edges[:-1], hist_percentage, width=bin_widths, alpha=0.7, align='edge', color='blue', label='Histogram')\n",
    "\n",
    "# setting the range for x-axis\n",
    "plt.xlim(0, bins[-1])\n",
    "\n",
    "# adding labels and title\n",
    "plt.xlabel('Distance in Miles')\n",
    "plt.ylabel('Percentage of Data Points')\n",
    "plt.title('Distribution of Approximate Distance between the Borrower and the Bank in miles')\n",
    "\n",
    "\n",
    "plt.show()"
   ]
  },
  {
   "cell_type": "code",
   "execution_count": 34,
   "metadata": {
    "colab": {
     "base_uri": "https://localhost:8080/",
     "height": 540
    },
    "id": "9uakwZIA_zH8",
    "outputId": "c3ebed8d-af16-4de7-8743-c9cf14252966"
   },
   "outputs": [
    {
     "data": {
      "image/png": "[encoded data removed]",
      "text/plain": [
       "<Figure size 720x432 with 1 Axes>"
      ]
     },
     "metadata": {
      "needs_background": "light"
     },
     "output_type": "display_data"
    }
   ],
   "source": [
    "import seaborn as sns\n",
    "# creating the KDE plot\n",
    "plt.figure(figsize=(10, 6))\n",
    "kde = sns.kdeplot(miles_df['ApproxDist'], bw_adjust=0.5, cut=0)\n",
    "\n",
    "# finding the maximum density point\n",
    "max_density_x = miles_df['ApproxDist'][np.argmax(kde.get_lines()[0].get_ydata())]\n",
    "\n",
    "# highlight a range of 50 miles\n",
    "small_range = 50  # defining the range width around the max density point\n",
    "plt.axvspan(max_density_x - small_range, max_density_x + small_range, color='red', alpha=0.3)\n",
    "\n",
    "# setting the range for x-axis\n",
    "plt.xlim(0, 1000)\n",
    "\n",
    "# adding labels and title\n",
    "plt.xlabel('Distance in Miles')\n",
    "plt.ylabel('Density')\n",
    "plt.title('Kernel Density Estimate of ApproxDist (0-1000 Miles) with a shaded region of 50 miles')\n",
    "\n",
    "plt.show()"
   ]
  },
  {
   "cell_type": "markdown",
   "metadata": {
    "id": "DQ5Inqf9NhZp"
   },
   "source": [
    "## Insights Drawn:\n",
    "\n",
    "The analysis highlights a clear geographical relationship between small business borrowers and SBA lenders, with a considerable number of borrowers opting for lenders within close proximity, either in the same city or state, or within a 50-mile radius. This trend suggests a preference for localized borrowing-lending relationships in the small business sector."
   ]
  },
  {
   "cell_type": "code",
   "execution_count": null,
   "metadata": {
    "id": "ux5qbBU_Nk-H"
   },
   "outputs": [],
   "source": []
  },
  {
   "cell_type": "markdown",
   "metadata": {
    "id": "zdDyNPta3zAV"
   },
   "source": [
    "## How does loan amount impact lending locality"
   ]
  },
  {
   "cell_type": "code",
   "execution_count": 35,
   "metadata": {
    "id": "g-wyjfxT49EJ"
   },
   "outputs": [],
   "source": [
    "locality_grouped = cleaned_fy2023.groupby('BorrCity')\n",
    "loan_amounts_by_locality = locality_grouped['GrossApproval'].sum()"
   ]
  },
  {
   "cell_type": "code",
   "execution_count": 36,
   "metadata": {
    "colab": {
     "base_uri": "https://localhost:8080/"
    },
    "id": "Xs6RN_-95Igl",
    "outputId": "1e56f364-0eca-4baf-c78b-2bdb841d111f"
   },
   "outputs": [
    {
     "name": "stdout",
     "output_type": "stream",
     "text": [
      "Statistical Summary of Loan Amounts by Locality:\n",
      "                         count          mean           std       min  \\\n",
      "BorrCity                                                               \n",
      "339112                     2.0  1.650000e+06  1.767767e+06  400000.0   \n",
      "88-1860677                 1.0  2.000000e+04           NaN   20000.0   \n",
      "8985 E Liberty North Rd    1.0  3.000000e+04           NaN   30000.0   \n",
      "ABBEVILLE                  3.0  1.090667e+06  4.778190e+05  652300.0   \n",
      "ABBOTTSTOWN                2.0  8.850000e+04  1.110158e+05   10000.0   \n",
      "...                        ...           ...           ...       ...   \n",
      "ravenna                    1.0  3.400000e+04           NaN   34000.0   \n",
      "saginaw                    1.0  2.000000e+04           NaN   20000.0   \n",
      "wadsworth                  1.0  1.850000e+05           NaN  185000.0   \n",
      "willoughby hills           1.0  1.278000e+05           NaN  127800.0   \n",
      "xenia                      2.0  3.405000e+04  2.255671e+04   18100.0   \n",
      "\n",
      "                               25%        50%        75%        max  \n",
      "BorrCity                                                             \n",
      "339112                   1025000.0  1650000.0  2275000.0  2900000.0  \n",
      "88-1860677                 20000.0    20000.0    20000.0    20000.0  \n",
      "8985 E Liberty North Rd    30000.0    30000.0    30000.0    30000.0  \n",
      "ABBEVILLE                 836000.0  1019700.0  1309850.0  1600000.0  \n",
      "ABBOTTSTOWN                49250.0    88500.0   127750.0   167000.0  \n",
      "...                            ...        ...        ...        ...  \n",
      "ravenna                    34000.0    34000.0    34000.0    34000.0  \n",
      "saginaw                    20000.0    20000.0    20000.0    20000.0  \n",
      "wadsworth                 185000.0   185000.0   185000.0   185000.0  \n",
      "willoughby hills          127800.0   127800.0   127800.0   127800.0  \n",
      "xenia                      26075.0    34050.0    42025.0    50000.0  \n",
      "\n",
      "[8068 rows x 8 columns]\n"
     ]
    }
   ],
   "source": [
    "loan_amounts_stats = locality_grouped['GrossApproval'].describe()\n",
    "\n",
    "print(\"Statistical Summary of Loan Amounts by Locality:\")\n",
    "print(loan_amounts_stats)"
   ]
  },
  {
   "cell_type": "code",
   "execution_count": 37,
   "metadata": {
    "colab": {
     "base_uri": "https://localhost:8080/"
    },
    "id": "cb9tQMq-5Ii2",
    "outputId": "436d220d-7c0d-468b-fa3d-091de85a8489"
   },
   "outputs": [
    {
     "name": "stdout",
     "output_type": "stream",
     "text": [
      "   BankState  GrossApproval\n",
      "0         AK   7.426481e+05\n",
      "1         AL   9.912610e+05\n",
      "2         AR   6.825749e+05\n",
      "3         AZ   7.034070e+05\n",
      "4         CA   1.021047e+06\n",
      "5         CO   7.672589e+05\n",
      "6         CT   4.416763e+05\n",
      "7         DC   5.041150e+05\n",
      "8         DE   2.289416e+05\n",
      "9         FL   5.440011e+05\n",
      "10        GA   1.162954e+06\n",
      "11        GU   2.708957e+05\n",
      "12        HI   7.339293e+04\n",
      "13        IA   4.442923e+05\n",
      "14        ID   5.537711e+05\n",
      "15        IL   9.028446e+05\n",
      "16        IN   6.738069e+05\n",
      "17        KS   4.847111e+05\n",
      "18        KY   3.875186e+05\n",
      "19        LA   6.779176e+05\n",
      "20        MA   3.857092e+05\n",
      "21        MD   6.276643e+05\n",
      "22        ME   1.923844e+05\n",
      "23        MI   6.628154e+05\n",
      "24        MN   4.365653e+05\n",
      "25        MO   8.189388e+05\n",
      "26        MS   5.161054e+05\n",
      "27        MT   4.255536e+05\n",
      "28        NC   1.082048e+06\n",
      "29        ND   5.095029e+05\n",
      "30        NE   4.830387e+05\n",
      "31        NH   2.040184e+05\n",
      "32        NJ   8.488514e+05\n",
      "33        NM   8.637965e+05\n",
      "34        NV   1.780498e+06\n",
      "35        NY   4.312331e+05\n",
      "36        OH   2.494723e+05\n",
      "37        OK   6.004423e+05\n",
      "38        OR   4.648973e+05\n",
      "39        PA   7.492576e+05\n",
      "40        PR   1.726012e+05\n",
      "41        RI   1.081745e+06\n",
      "42        SC   8.401242e+05\n",
      "43        SD   3.237352e+05\n",
      "44        TN   8.556384e+05\n",
      "45        TX   8.817639e+05\n",
      "46        UT   8.193590e+05\n",
      "47        VA   7.112164e+05\n",
      "48        VI   8.750000e+04\n",
      "49        VT   1.374235e+05\n",
      "50        WA   5.181654e+05\n",
      "51        WI   5.967039e+05\n",
      "52        WV   5.484830e+05\n",
      "53        WY   1.814671e+05\n"
     ]
    }
   ],
   "source": [
    "loan_amount_by_state = df.groupby('BankState')['GrossApproval'].mean().reset_index()\n",
    "print(loan_amount_by_state)"
   ]
  },
  {
   "cell_type": "code",
   "execution_count": 38,
   "metadata": {
    "colab": {
     "base_uri": "https://localhost:8080/",
     "height": 443
    },
    "id": "webE6CRF6qyO",
    "outputId": "361df227-c7cc-4b31-9b62-af0891e2a476"
   },
   "outputs": [
    {
     "data": {
      "image/png": "[encoded data removed]",
      "text/plain": [
       "<Figure size 864x432 with 1 Axes>"
      ]
     },
     "metadata": {
      "needs_background": "light"
     },
     "output_type": "display_data"
    }
   ],
   "source": [
    "# Visualize mean loan amount by lender state\n",
    "plt.figure(figsize=(12, 6))\n",
    "plt.bar(loan_amount_by_state['BankState'], loan_amount_by_state['GrossApproval'], color='lightgreen', alpha=0.8)\n",
    "plt.title('Mean Loan Amount by Lender State')\n",
    "plt.xlabel('State')\n",
    "plt.ylabel('Mean Loan Amount ($)')\n",
    "plt.xticks(rotation=90)\n",
    "plt.tight_layout()\n",
    "plt.show()"
   ]
  },
  {
   "cell_type": "markdown",
   "metadata": {
    "id": "sm7M1_8y7Ky3"
   },
   "source": []
  },
  {
   "cell_type": "code",
   "execution_count": null,
   "metadata": {},
   "outputs": [],
   "source": []
  },
  {
   "cell_type": "code",
   "execution_count": null,
   "metadata": {},
   "outputs": [],
   "source": []
  },
  {
   "cell_type": "code",
   "execution_count": null,
   "metadata": {},
   "outputs": [],
   "source": []
  }
 ],
 "metadata": {
  "colab": {
   "provenance": []
  },
  "kernelspec": {
   "display_name": "Python 3 (ipykernel)",
   "language": "python",
   "name": "python3"
  },
  "language_info": {
   "codemirror_mode": {
    "name": "ipython",
    "version": 3
   },
   "file_extension": ".py",
   "mimetype": "text/x-python",
   "name": "python",
   "nbconvert_exporter": "python",
   "pygments_lexer": "ipython3",
   "version": "3.9.12"
  }
 },
 "nbformat": 4,
 "nbformat_minor": 1
}
